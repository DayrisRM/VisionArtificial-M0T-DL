{
  "nbformat": 4,
  "nbformat_minor": 0,
  "metadata": {
    "colab": {
      "name": "VGG16-M0.ipynb",
      "provenance": [],
      "authorship_tag": "ABX9TyMB7CNvQpjr65YbRc1YSjI8",
      "include_colab_link": true
    },
    "kernelspec": {
      "name": "python3",
      "display_name": "Python 3"
    },
    "language_info": {
      "name": "python"
    },
    "accelerator": "GPU",
    "gpuClass": "standard"
  },
  "cells": [
    {
      "cell_type": "markdown",
      "metadata": {
        "id": "view-in-github",
        "colab_type": "text"
      },
      "source": [
        "<a href=\"https://colab.research.google.com/github/DayrisRM/VisionArtificial-M0T-DL/blob/main/VGG16_M0.ipynb\" target=\"_parent\"><img src=\"https://colab.research.google.com/assets/colab-badge.svg\" alt=\"Open In Colab\"/></a>"
      ]
    },
    {
      "cell_type": "code",
      "execution_count": 1,
      "metadata": {
        "colab": {
          "resources": {
            "http://localhost:8080/nbextensions/google.colab/files.js": {
              "data": "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",
              "ok": true,
              "headers": [
                [
                  "content-type",
                  "application/javascript"
                ]
              ],
              "status": 200,
              "status_text": ""
            }
          },
          "base_uri": "https://localhost:8080/",
          "height": 73
        },
        "id": "xFr1R6TPjJ4-",
        "outputId": "818dc16e-b8b8-43d3-9816-e7b71f168a84"
      },
      "outputs": [
        {
          "output_type": "display_data",
          "data": {
            "text/plain": [
              "<IPython.core.display.HTML object>"
            ],
            "text/html": [
              "\n",
              "     <input type=\"file\" id=\"files-b0502cc8-25ed-43a4-b1d6-5257aa41bfb2\" name=\"files[]\" multiple disabled\n",
              "        style=\"border:none\" />\n",
              "     <output id=\"result-b0502cc8-25ed-43a4-b1d6-5257aa41bfb2\">\n",
              "      Upload widget is only available when the cell has been executed in the\n",
              "      current browser session. Please rerun this cell to enable.\n",
              "      </output>\n",
              "      <script src=\"/nbextensions/google.colab/files.js\"></script> "
            ]
          },
          "metadata": {}
        },
        {
          "output_type": "stream",
          "name": "stdout",
          "text": [
            "Saving EX2_Data_v1.zip to EX2_Data_v1.zip\n"
          ]
        }
      ],
      "source": [
        "from google.colab import files\n",
        "uploaded = files.upload()"
      ]
    },
    {
      "cell_type": "code",
      "source": [
        "import zipfile\n",
        "import io\n",
        "data = zipfile.ZipFile(io.BytesIO(uploaded['EX2_Data_v1.zip']), 'r')\n",
        "data.extractall()"
      ],
      "metadata": {
        "id": "EPaYStNMoGXl"
      },
      "execution_count": 2,
      "outputs": []
    },
    {
      "cell_type": "code",
      "source": [
        "from tqdm import tqdm\n",
        "import os\n",
        "import cv2\n",
        "import numpy as np\n",
        "import itertools\n",
        "from sklearn.metrics import accuracy_score, confusion_matrix\n",
        "from PIL import Image"
      ],
      "metadata": {
        "id": "k1ruwYJ9q-7h"
      },
      "execution_count": 3,
      "outputs": []
    },
    {
      "cell_type": "code",
      "source": [
        "train_path = '/content/train/' \n",
        "test_path = '/content/test/'\n",
        "validation_path = '/content/validation/'"
      ],
      "metadata": {
        "id": "SazWsClUrAdG"
      },
      "execution_count": 4,
      "outputs": []
    },
    {
      "cell_type": "code",
      "source": [
        "classes = ['rot0', 'rot90','rot180','rot-90']"
      ],
      "metadata": {
        "id": "h9CZhDXVrcsa"
      },
      "execution_count": 5,
      "outputs": []
    },
    {
      "cell_type": "code",
      "source": [
        "print('The training set consists of ', \n",
        "      classes[0] + ': ',\n",
        "      len(os.listdir(train_path + classes[0] + '/')), ' images - ',\n",
        "      classes[1] + ': ',\n",
        "      len(os.listdir(train_path + classes[1] + '/')), ' images - ',\n",
        "      classes[2] + ': ',\n",
        "      len(os.listdir(train_path + classes[2] + '/')), ' images - ',\n",
        "      classes[3] + ': ',\n",
        "      len(os.listdir(train_path + classes[3] + '/')), ' images. '\n",
        "      )"
      ],
      "metadata": {
        "colab": {
          "base_uri": "https://localhost:8080/"
        },
        "id": "gr9rYWjdrNqx",
        "outputId": "b71592aa-4e1b-4f3c-ed0b-860a6f90b8b9"
      },
      "execution_count": 6,
      "outputs": [
        {
          "output_type": "stream",
          "name": "stdout",
          "text": [
            "The training set consists of  rot0:  190  images -  rot90:  261  images -  rot180:  18  images -  rot-90:  62  images. \n"
          ]
        }
      ]
    },
    {
      "cell_type": "code",
      "source": [
        "print('The test set consists of ', \n",
        "      classes[0] + ': ',\n",
        "      len(os.listdir(test_path + classes[0] + '/')), ' images - ',\n",
        "      classes[1] + ': ',\n",
        "      len(os.listdir(test_path + classes[1] + '/')), ' images - ',\n",
        "      classes[2] + ': ',\n",
        "      len(os.listdir(test_path + classes[2] + '/')), ' images - ',\n",
        "      classes[3] + ': ',\n",
        "      len(os.listdir(test_path + classes[3] + '/')), ' images. '\n",
        "      )"
      ],
      "metadata": {
        "colab": {
          "base_uri": "https://localhost:8080/"
        },
        "id": "qIfT8mNfsfd6",
        "outputId": "8a66fcf3-c5e9-4c55-b5c7-4328129af228"
      },
      "execution_count": 7,
      "outputs": [
        {
          "output_type": "stream",
          "name": "stdout",
          "text": [
            "The test set consists of  rot0:  79  images -  rot90:  108  images -  rot180:  7  images -  rot-90:  26  images. \n"
          ]
        }
      ]
    },
    {
      "cell_type": "code",
      "source": [
        ""
      ],
      "metadata": {
        "id": "Uli1ljIu2cq-"
      },
      "execution_count": null,
      "outputs": []
    },
    {
      "cell_type": "markdown",
      "source": [
        "\n",
        "\n",
        "---\n",
        "\n",
        "\n",
        "***Image preprocessing on dataset***\n"
      ],
      "metadata": {
        "id": "5XNT49KF2Jxz"
      }
    },
    {
      "cell_type": "code",
      "source": [
        "def preprocess_image(dir_path, imageName, img_size=(224,224)):\n",
        "  img = Image.open(dir_path + imageName )  \n",
        "  img = img.resize(img_size, Image.ANTIALIAS)\n",
        "  pathToSave = dir_path + imageName\n",
        "  img.save(pathToSave)"
      ],
      "metadata": {
        "id": "HSYSviBzxTvu"
      },
      "execution_count": 8,
      "outputs": []
    },
    {
      "cell_type": "code",
      "source": [
        "def preprocess_dataset(dir_path):\n",
        "  for path in tqdm(sorted(os.listdir(dir_path))):\n",
        "    if not path.startswith('.'):\n",
        "      for file in os.listdir(dir_path + path):\n",
        "                if not file.startswith('.'):\n",
        "                  pathImage = dir_path + path + '/'                  \n",
        "                  preprocess_image(pathImage , file)\n"
      ],
      "metadata": {
        "id": "W9kJd2kXyYgR"
      },
      "execution_count": 9,
      "outputs": []
    },
    {
      "cell_type": "code",
      "source": [
        "preprocess_dataset(train_path)"
      ],
      "metadata": {
        "colab": {
          "base_uri": "https://localhost:8080/"
        },
        "id": "U0gGAgVMyyC9",
        "outputId": "df4075e6-ff1c-4300-cf59-4913ea3c4072"
      },
      "execution_count": 10,
      "outputs": [
        {
          "output_type": "stream",
          "name": "stderr",
          "text": [
            "100%|██████████| 4/4 [00:07<00:00,  1.89s/it]\n"
          ]
        }
      ]
    },
    {
      "cell_type": "code",
      "source": [
        "preprocess_dataset(test_path)"
      ],
      "metadata": {
        "colab": {
          "base_uri": "https://localhost:8080/"
        },
        "id": "myk7hYVk1_pp",
        "outputId": "c5b858b5-a1a1-4612-da70-72832a2f2465"
      },
      "execution_count": 11,
      "outputs": [
        {
          "output_type": "stream",
          "name": "stderr",
          "text": [
            "100%|██████████| 4/4 [00:03<00:00,  1.27it/s]\n"
          ]
        }
      ]
    },
    {
      "cell_type": "code",
      "source": [
        "preprocess_dataset(validation_path)"
      ],
      "metadata": {
        "colab": {
          "base_uri": "https://localhost:8080/"
        },
        "id": "UspmzNpgKMev",
        "outputId": "d3588402-28d7-4af7-e3e1-a8b822031169"
      },
      "execution_count": 12,
      "outputs": [
        {
          "output_type": "stream",
          "name": "stderr",
          "text": [
            "100%|██████████| 4/4 [00:02<00:00,  2.00it/s]\n"
          ]
        }
      ]
    },
    {
      "cell_type": "markdown",
      "source": [
        "\n",
        "\n",
        "---\n",
        "\n",
        ">  ***VGG16 model***\n",
        "\n"
      ],
      "metadata": {
        "id": "MlabGjvm2eLU"
      }
    },
    {
      "cell_type": "code",
      "source": [
        "from keras.applications.vgg16 import VGG16\n",
        "from keras.models import Model\n",
        "from keras.layers import Dense\n",
        "from keras.layers import Flatten\n",
        "from tensorflow.keras.optimizers import SGD\n",
        "from keras.preprocessing.image import ImageDataGenerator\n",
        "import tensorflow as tf\n",
        "from matplotlib import pyplot\n",
        "from keras.callbacks import EarlyStopping"
      ],
      "metadata": {
        "id": "J2jD9Jlo2lT7"
      },
      "execution_count": 13,
      "outputs": []
    },
    {
      "cell_type": "code",
      "source": [
        "# define cnn model\n",
        "def define_model():\n",
        "  # load model\n",
        "  model = VGG16(include_top=False, input_shape=(224, 224, 3))\n",
        "  # mark loaded layers as not trainable\n",
        "  for layer in model.layers:\n",
        "    layer.trainable = False\n",
        "  \n",
        "  last_layer = model.get_layer('block5_pool')\n",
        "  last_output = last_layer.output\n",
        "  x = tf.keras.layers.GlobalMaxPooling2D()(last_output)\n",
        "  x = tf.keras.layers.Dense(512, activation='relu')(x)\n",
        "  x = tf.keras.layers.Dropout(0.5)(x)\n",
        "  x = tf.keras.layers.Dense(4, activation='softmax')(x)\n",
        "  model = tf.keras.Model(model.input, x)  \n",
        "\n",
        "  model.compile(optimizer='adam', loss='categorical_crossentropy', metrics=['accuracy'])\n",
        "\n",
        "  return model"
      ],
      "metadata": {
        "id": "gsm1wDM129SN"
      },
      "execution_count": 61,
      "outputs": []
    },
    {
      "cell_type": "code",
      "source": [
        "model = define_model()\n",
        "model.summary()"
      ],
      "metadata": {
        "colab": {
          "base_uri": "https://localhost:8080/"
        },
        "id": "CDgYy81XDBr1",
        "outputId": "4654e520-3eb4-4839-e8ea-022eb6a2320c"
      },
      "execution_count": 62,
      "outputs": [
        {
          "output_type": "stream",
          "name": "stdout",
          "text": [
            "Model: \"model_4\"\n",
            "_________________________________________________________________\n",
            " Layer (type)                Output Shape              Param #   \n",
            "=================================================================\n",
            " input_5 (InputLayer)        [(None, 224, 224, 3)]     0         \n",
            "                                                                 \n",
            " block1_conv1 (Conv2D)       (None, 224, 224, 64)      1792      \n",
            "                                                                 \n",
            " block1_conv2 (Conv2D)       (None, 224, 224, 64)      36928     \n",
            "                                                                 \n",
            " block1_pool (MaxPooling2D)  (None, 112, 112, 64)      0         \n",
            "                                                                 \n",
            " block2_conv1 (Conv2D)       (None, 112, 112, 128)     73856     \n",
            "                                                                 \n",
            " block2_conv2 (Conv2D)       (None, 112, 112, 128)     147584    \n",
            "                                                                 \n",
            " block2_pool (MaxPooling2D)  (None, 56, 56, 128)       0         \n",
            "                                                                 \n",
            " block3_conv1 (Conv2D)       (None, 56, 56, 256)       295168    \n",
            "                                                                 \n",
            " block3_conv2 (Conv2D)       (None, 56, 56, 256)       590080    \n",
            "                                                                 \n",
            " block3_conv3 (Conv2D)       (None, 56, 56, 256)       590080    \n",
            "                                                                 \n",
            " block3_pool (MaxPooling2D)  (None, 28, 28, 256)       0         \n",
            "                                                                 \n",
            " block4_conv1 (Conv2D)       (None, 28, 28, 512)       1180160   \n",
            "                                                                 \n",
            " block4_conv2 (Conv2D)       (None, 28, 28, 512)       2359808   \n",
            "                                                                 \n",
            " block4_conv3 (Conv2D)       (None, 28, 28, 512)       2359808   \n",
            "                                                                 \n",
            " block4_pool (MaxPooling2D)  (None, 14, 14, 512)       0         \n",
            "                                                                 \n",
            " block5_conv1 (Conv2D)       (None, 14, 14, 512)       2359808   \n",
            "                                                                 \n",
            " block5_conv2 (Conv2D)       (None, 14, 14, 512)       2359808   \n",
            "                                                                 \n",
            " block5_conv3 (Conv2D)       (None, 14, 14, 512)       2359808   \n",
            "                                                                 \n",
            " block5_pool (MaxPooling2D)  (None, 7, 7, 512)         0         \n",
            "                                                                 \n",
            " global_max_pooling2d_4 (Glo  (None, 512)              0         \n",
            " balMaxPooling2D)                                                \n",
            "                                                                 \n",
            " dense_8 (Dense)             (None, 512)               262656    \n",
            "                                                                 \n",
            " dropout_4 (Dropout)         (None, 512)               0         \n",
            "                                                                 \n",
            " dense_9 (Dense)             (None, 4)                 2052      \n",
            "                                                                 \n",
            "=================================================================\n",
            "Total params: 14,979,396\n",
            "Trainable params: 264,708\n",
            "Non-trainable params: 14,714,688\n",
            "_________________________________________________________________\n"
          ]
        }
      ]
    },
    {
      "cell_type": "code",
      "source": [
        "def load_data(dir_path, img_size=(224,224)):\n",
        "    \"\"\"\n",
        "    Load resized images as np.arrays to workspace\n",
        "    \"\"\"\n",
        "    X = []\n",
        "    y = []\n",
        "    i = 0\n",
        "    labels = dict()\n",
        "    for path in tqdm(sorted(os.listdir(dir_path))):\n",
        "        if not path.startswith('.'):\n",
        "            labels[i] = path\n",
        "            for file in os.listdir(dir_path + path):\n",
        "                if not file.startswith('.'):\n",
        "                    img = cv2.imread(dir_path + path + '/' + file)\n",
        "                    X.append(img)\n",
        "                    y.append(i)\n",
        "            i += 1\n",
        "    X = np.array(X)\n",
        "    y = np.array(y)\n",
        "    print(f'{len(X)} images loaded from {dir_path} directory.')\n",
        "    return X, y, labels"
      ],
      "metadata": {
        "id": "pAnkYm0pJtOJ"
      },
      "execution_count": 63,
      "outputs": []
    },
    {
      "cell_type": "code",
      "source": [
        "IMG_SIZE = (224,224)\n",
        "X_val, y_val, labels = load_data(validation_path, IMG_SIZE)"
      ],
      "metadata": {
        "colab": {
          "base_uri": "https://localhost:8080/"
        },
        "id": "TIQvav2mJw10",
        "outputId": "39a77374-30b6-4f4c-f449-290b4c403d0a"
      },
      "execution_count": 64,
      "outputs": [
        {
          "output_type": "stream",
          "name": "stderr",
          "text": [
            "100%|██████████| 4/4 [00:00<00:00, 51.86it/s]"
          ]
        },
        {
          "output_type": "stream",
          "name": "stdout",
          "text": [
            "135 images loaded from /content/validation/ directory.\n"
          ]
        },
        {
          "output_type": "stream",
          "name": "stderr",
          "text": [
            "\n"
          ]
        }
      ]
    },
    {
      "cell_type": "code",
      "source": [
        "import matplotlib.pyplot as plt\n",
        "def plotHistory(history):\n",
        "  N = np.arange(0, EPOCHS)\n",
        "  plt.figure()\n",
        "  plt.plot(N, history.history[\"loss\"], label=\"train_loss\")\n",
        "  plt.plot(N, history.history[\"val_loss\"], label=\"val_loss\")\n",
        "  plt.plot(N, history.history[\"accuracy\"], label=\"train_acc\")\n",
        "  plt.plot(N, history.history[\"val_accuracy\"], label=\"val_acc\")\n",
        "  plt.title(\"Training/Validation Loss and Accuracy\")\n",
        "  plt.xlabel(\"Epoch #\")\n",
        "  plt.ylabel(\"Loss/Accuracy\")\n",
        "  plt.legend()"
      ],
      "metadata": {
        "id": "1ZJkRu9MNWx-"
      },
      "execution_count": 65,
      "outputs": []
    },
    {
      "cell_type": "code",
      "source": [
        "EPOCHS = 60\n",
        "def trainModel():\n",
        "  model = define_model()\n",
        "  # create data generator\n",
        "  datagen = ImageDataGenerator(rescale=1./255)\n",
        "  train_it = datagen.flow_from_directory(train_path, batch_size=64, target_size=(224, 224))\n",
        "  test_it = datagen.flow_from_directory(test_path, batch_size=64, target_size=(224, 224))\n",
        "\n",
        "  history = model.fit(train_it, steps_per_epoch=len(train_it),\n",
        "\t\tvalidation_data=test_it, validation_steps=len(test_it), epochs=EPOCHS, verbose=1)\n",
        "  \n",
        "  loss, acc = model.evaluate(test_it, steps=len(test_it), verbose=1)\n",
        "  print('acc > %.3f' % (acc * 100.0))\n",
        "  print(\"loss : \", loss)    \n",
        "  \n",
        "  plotHistory(history)\n",
        "\n",
        "  return model\n",
        "  "
      ],
      "metadata": {
        "id": "URK5WZm3DsJK"
      },
      "execution_count": 66,
      "outputs": []
    },
    {
      "cell_type": "code",
      "source": [
        "modelVgg = trainModel()"
      ],
      "metadata": {
        "colab": {
          "base_uri": "https://localhost:8080/",
          "height": 1000
        },
        "id": "_60-6gQbEkWF",
        "outputId": "e8119441-af6a-4d7c-a8da-2b566522f2f6"
      },
      "execution_count": 67,
      "outputs": [
        {
          "output_type": "stream",
          "name": "stdout",
          "text": [
            "Found 531 images belonging to 4 classes.\n",
            "Found 220 images belonging to 4 classes.\n",
            "Epoch 1/60\n",
            "9/9 [==============================] - 5s 450ms/step - loss: 1.1657 - accuracy: 0.5160 - val_loss: 0.8601 - val_accuracy: 0.7364\n",
            "Epoch 2/60\n",
            "9/9 [==============================] - 4s 416ms/step - loss: 0.8733 - accuracy: 0.6723 - val_loss: 0.7300 - val_accuracy: 0.7591\n",
            "Epoch 3/60\n",
            "9/9 [==============================] - 4s 419ms/step - loss: 0.7228 - accuracy: 0.7269 - val_loss: 0.6436 - val_accuracy: 0.7773\n",
            "Epoch 4/60\n",
            "9/9 [==============================] - 4s 421ms/step - loss: 0.5708 - accuracy: 0.8380 - val_loss: 0.5544 - val_accuracy: 0.8045\n",
            "Epoch 5/60\n",
            "9/9 [==============================] - 4s 422ms/step - loss: 0.4963 - accuracy: 0.8456 - val_loss: 0.4975 - val_accuracy: 0.8182\n",
            "Epoch 6/60\n",
            "9/9 [==============================] - 4s 425ms/step - loss: 0.4353 - accuracy: 0.8682 - val_loss: 0.4734 - val_accuracy: 0.8727\n",
            "Epoch 7/60\n",
            "9/9 [==============================] - 4s 429ms/step - loss: 0.4117 - accuracy: 0.8814 - val_loss: 0.4382 - val_accuracy: 0.8773\n",
            "Epoch 8/60\n",
            "9/9 [==============================] - 4s 432ms/step - loss: 0.3740 - accuracy: 0.8795 - val_loss: 0.4166 - val_accuracy: 0.8636\n",
            "Epoch 9/60\n",
            "9/9 [==============================] - 4s 433ms/step - loss: 0.3265 - accuracy: 0.8908 - val_loss: 0.4240 - val_accuracy: 0.8727\n",
            "Epoch 10/60\n",
            "9/9 [==============================] - 4s 434ms/step - loss: 0.3180 - accuracy: 0.9002 - val_loss: 0.3728 - val_accuracy: 0.8864\n",
            "Epoch 11/60\n",
            "9/9 [==============================] - 4s 432ms/step - loss: 0.2930 - accuracy: 0.9058 - val_loss: 0.3782 - val_accuracy: 0.8909\n",
            "Epoch 12/60\n",
            "9/9 [==============================] - 4s 435ms/step - loss: 0.3055 - accuracy: 0.9002 - val_loss: 0.3914 - val_accuracy: 0.9045\n",
            "Epoch 13/60\n",
            "9/9 [==============================] - 4s 433ms/step - loss: 0.2803 - accuracy: 0.9040 - val_loss: 0.3810 - val_accuracy: 0.8955\n",
            "Epoch 14/60\n",
            "9/9 [==============================] - 4s 430ms/step - loss: 0.2513 - accuracy: 0.9303 - val_loss: 0.3456 - val_accuracy: 0.8909\n",
            "Epoch 15/60\n",
            "9/9 [==============================] - 4s 426ms/step - loss: 0.2487 - accuracy: 0.9153 - val_loss: 0.3454 - val_accuracy: 0.8818\n",
            "Epoch 16/60\n",
            "9/9 [==============================] - 4s 449ms/step - loss: 0.2338 - accuracy: 0.9209 - val_loss: 0.3436 - val_accuracy: 0.8955\n",
            "Epoch 17/60\n",
            "9/9 [==============================] - 4s 422ms/step - loss: 0.2177 - accuracy: 0.9322 - val_loss: 0.3322 - val_accuracy: 0.8955\n",
            "Epoch 18/60\n",
            "9/9 [==============================] - 4s 421ms/step - loss: 0.1929 - accuracy: 0.9303 - val_loss: 0.3177 - val_accuracy: 0.9000\n",
            "Epoch 19/60\n",
            "9/9 [==============================] - 4s 421ms/step - loss: 0.2014 - accuracy: 0.9492 - val_loss: 0.3222 - val_accuracy: 0.9136\n",
            "Epoch 20/60\n",
            "9/9 [==============================] - 4s 421ms/step - loss: 0.1899 - accuracy: 0.9303 - val_loss: 0.3206 - val_accuracy: 0.9136\n",
            "Epoch 21/60\n",
            "9/9 [==============================] - 4s 443ms/step - loss: 0.1618 - accuracy: 0.9454 - val_loss: 0.3229 - val_accuracy: 0.8955\n",
            "Epoch 22/60\n",
            "9/9 [==============================] - 4s 423ms/step - loss: 0.1831 - accuracy: 0.9397 - val_loss: 0.3165 - val_accuracy: 0.8955\n",
            "Epoch 23/60\n",
            "9/9 [==============================] - 4s 428ms/step - loss: 0.1826 - accuracy: 0.9397 - val_loss: 0.3498 - val_accuracy: 0.9045\n",
            "Epoch 24/60\n",
            "9/9 [==============================] - 4s 421ms/step - loss: 0.1587 - accuracy: 0.9567 - val_loss: 0.3097 - val_accuracy: 0.8909\n",
            "Epoch 25/60\n",
            "9/9 [==============================] - 4s 448ms/step - loss: 0.1557 - accuracy: 0.9623 - val_loss: 0.3075 - val_accuracy: 0.9136\n",
            "Epoch 26/60\n",
            "9/9 [==============================] - 4s 424ms/step - loss: 0.1675 - accuracy: 0.9454 - val_loss: 0.3021 - val_accuracy: 0.9045\n",
            "Epoch 27/60\n",
            "9/9 [==============================] - 4s 451ms/step - loss: 0.1597 - accuracy: 0.9492 - val_loss: 0.3196 - val_accuracy: 0.8818\n",
            "Epoch 28/60\n",
            "9/9 [==============================] - 4s 448ms/step - loss: 0.1367 - accuracy: 0.9680 - val_loss: 0.3016 - val_accuracy: 0.9000\n",
            "Epoch 29/60\n",
            "9/9 [==============================] - 4s 450ms/step - loss: 0.1250 - accuracy: 0.9680 - val_loss: 0.3328 - val_accuracy: 0.9045\n",
            "Epoch 30/60\n",
            "9/9 [==============================] - 4s 427ms/step - loss: 0.1165 - accuracy: 0.9774 - val_loss: 0.3077 - val_accuracy: 0.8909\n",
            "Epoch 31/60\n",
            "9/9 [==============================] - 4s 428ms/step - loss: 0.1109 - accuracy: 0.9718 - val_loss: 0.3203 - val_accuracy: 0.9045\n",
            "Epoch 32/60\n",
            "9/9 [==============================] - 4s 428ms/step - loss: 0.1114 - accuracy: 0.9680 - val_loss: 0.2981 - val_accuracy: 0.8955\n",
            "Epoch 33/60\n",
            "9/9 [==============================] - 4s 427ms/step - loss: 0.1087 - accuracy: 0.9699 - val_loss: 0.3107 - val_accuracy: 0.9091\n",
            "Epoch 34/60\n",
            "9/9 [==============================] - 4s 426ms/step - loss: 0.1204 - accuracy: 0.9623 - val_loss: 0.3020 - val_accuracy: 0.9000\n",
            "Epoch 35/60\n",
            "9/9 [==============================] - 4s 428ms/step - loss: 0.0998 - accuracy: 0.9680 - val_loss: 0.3082 - val_accuracy: 0.9045\n",
            "Epoch 36/60\n",
            "9/9 [==============================] - 4s 429ms/step - loss: 0.0917 - accuracy: 0.9755 - val_loss: 0.3340 - val_accuracy: 0.9045\n",
            "Epoch 37/60\n",
            "9/9 [==============================] - 4s 425ms/step - loss: 0.0816 - accuracy: 0.9831 - val_loss: 0.3140 - val_accuracy: 0.9091\n",
            "Epoch 38/60\n",
            "9/9 [==============================] - 4s 424ms/step - loss: 0.0953 - accuracy: 0.9736 - val_loss: 0.3276 - val_accuracy: 0.9000\n",
            "Epoch 39/60\n",
            "9/9 [==============================] - 4s 425ms/step - loss: 0.0723 - accuracy: 0.9868 - val_loss: 0.3131 - val_accuracy: 0.8955\n",
            "Epoch 40/60\n",
            "9/9 [==============================] - 4s 424ms/step - loss: 0.0850 - accuracy: 0.9718 - val_loss: 0.3205 - val_accuracy: 0.8955\n",
            "Epoch 41/60\n",
            "9/9 [==============================] - 4s 424ms/step - loss: 0.0617 - accuracy: 0.9944 - val_loss: 0.3143 - val_accuracy: 0.9045\n",
            "Epoch 42/60\n",
            "9/9 [==============================] - 4s 420ms/step - loss: 0.0672 - accuracy: 0.9849 - val_loss: 0.3402 - val_accuracy: 0.8955\n",
            "Epoch 43/60\n",
            "9/9 [==============================] - 4s 424ms/step - loss: 0.0692 - accuracy: 0.9849 - val_loss: 0.3418 - val_accuracy: 0.8909\n",
            "Epoch 44/60\n",
            "9/9 [==============================] - 4s 447ms/step - loss: 0.0630 - accuracy: 0.9887 - val_loss: 0.3108 - val_accuracy: 0.9000\n",
            "Epoch 45/60\n",
            "9/9 [==============================] - 4s 426ms/step - loss: 0.0648 - accuracy: 0.9868 - val_loss: 0.3331 - val_accuracy: 0.8909\n",
            "Epoch 46/60\n",
            "9/9 [==============================] - 4s 424ms/step - loss: 0.0671 - accuracy: 0.9831 - val_loss: 0.3245 - val_accuracy: 0.9000\n",
            "Epoch 47/60\n",
            "9/9 [==============================] - 4s 422ms/step - loss: 0.0585 - accuracy: 0.9906 - val_loss: 0.3317 - val_accuracy: 0.9000\n",
            "Epoch 48/60\n",
            "9/9 [==============================] - 4s 428ms/step - loss: 0.0616 - accuracy: 0.9831 - val_loss: 0.3306 - val_accuracy: 0.9000\n",
            "Epoch 49/60\n",
            "9/9 [==============================] - 4s 423ms/step - loss: 0.0564 - accuracy: 0.9868 - val_loss: 0.3313 - val_accuracy: 0.8864\n",
            "Epoch 50/60\n",
            "9/9 [==============================] - 4s 426ms/step - loss: 0.0621 - accuracy: 0.9849 - val_loss: 0.3733 - val_accuracy: 0.8955\n",
            "Epoch 51/60\n",
            "9/9 [==============================] - 4s 423ms/step - loss: 0.0608 - accuracy: 0.9849 - val_loss: 0.3208 - val_accuracy: 0.8909\n",
            "Epoch 52/60\n",
            "9/9 [==============================] - 4s 424ms/step - loss: 0.0541 - accuracy: 0.9944 - val_loss: 0.3423 - val_accuracy: 0.8955\n",
            "Epoch 53/60\n",
            "9/9 [==============================] - 4s 425ms/step - loss: 0.0581 - accuracy: 0.9812 - val_loss: 0.3543 - val_accuracy: 0.8955\n",
            "Epoch 54/60\n",
            "9/9 [==============================] - 4s 421ms/step - loss: 0.0738 - accuracy: 0.9793 - val_loss: 0.3751 - val_accuracy: 0.8909\n",
            "Epoch 55/60\n",
            "9/9 [==============================] - 4s 428ms/step - loss: 0.0660 - accuracy: 0.9831 - val_loss: 0.3261 - val_accuracy: 0.9045\n",
            "Epoch 56/60\n",
            "9/9 [==============================] - 4s 424ms/step - loss: 0.0385 - accuracy: 0.9962 - val_loss: 0.3329 - val_accuracy: 0.9045\n",
            "Epoch 57/60\n",
            "9/9 [==============================] - 4s 426ms/step - loss: 0.0423 - accuracy: 0.9925 - val_loss: 0.3481 - val_accuracy: 0.9000\n",
            "Epoch 58/60\n",
            "9/9 [==============================] - 4s 423ms/step - loss: 0.0470 - accuracy: 0.9906 - val_loss: 0.3869 - val_accuracy: 0.8818\n",
            "Epoch 59/60\n",
            "9/9 [==============================] - 4s 427ms/step - loss: 0.0463 - accuracy: 0.9906 - val_loss: 0.3496 - val_accuracy: 0.8955\n",
            "Epoch 60/60\n",
            "9/9 [==============================] - 4s 428ms/step - loss: 0.0447 - accuracy: 0.9925 - val_loss: 0.3519 - val_accuracy: 0.8955\n",
            "4/4 [==============================] - 1s 256ms/step - loss: 0.3519 - accuracy: 0.8955\n",
            "acc > 89.545\n",
            "loss :  0.3519282639026642\n"
          ]
        },
        {
          "output_type": "display_data",
          "data": {
            "text/plain": [
              "<Figure size 432x288 with 1 Axes>"
            ],
            "image/png": "[encoded data removed]"
          },
          "metadata": {
            "needs_background": "light"
          }
        }
      ]
    },
    {
      "cell_type": "code",
      "source": [
        "def plot_confusion_matrix(cm, classes,\n",
        "                          normalize=False,\n",
        "                          title='Confusion matrix',\n",
        "                          cmap=pyplot.cm.Blues):\n",
        "    \"\"\"\n",
        "    This function prints and plots the confusion matrix.\n",
        "    Normalization can be applied by setting `normalize=True`.\n",
        "    \"\"\"\n",
        "    pyplot.figure(figsize = (6,6))\n",
        "    pyplot.imshow(cm, interpolation='nearest', cmap=cmap)\n",
        "    pyplot.title(title)\n",
        "    pyplot.colorbar()\n",
        "    tick_marks = np.arange(len(classes))\n",
        "    pyplot.xticks(tick_marks, classes, rotation=90)\n",
        "    pyplot.yticks(tick_marks, classes)\n",
        "    if normalize:\n",
        "        cm = cm.astype('float') / cm.sum(axis=1)[:, np.newaxis]\n",
        "\n",
        "    thresh = cm.max() / 2.\n",
        "    cm = np.round(cm,2)\n",
        "    for i, j in itertools.product(range(cm.shape[0]), range(cm.shape[1])):\n",
        "        pyplot.text(j, i, cm[i, j],\n",
        "                 horizontalalignment=\"center\",\n",
        "                 color=\"white\" if cm[i, j] > thresh else \"black\")\n",
        "    pyplot.tight_layout()\n",
        "    pyplot.ylabel('True label')\n",
        "    pyplot.xlabel('Predicted label')\n",
        "    pyplot.show()"
      ],
      "metadata": {
        "id": "bcb8YcewNLTy"
      },
      "execution_count": 68,
      "outputs": []
    },
    {
      "cell_type": "code",
      "source": [
        "from sklearn.metrics import classification_report\n",
        "def validateOnValSet(model):   \n",
        "  predictions = model.predict(X_val, batch_size=32)\n",
        "  y_pred = np.argmax(predictions, axis=1) \n",
        "  y_true = np.argmax(y_val, axis=0)   \n",
        "  print(\"\\n\"+ classification_report(y_val, y_pred, target_names=classes))\n",
        "  print(confusion_matrix(y_val, y_pred))\n",
        "  confusion_mtx = confusion_matrix(y_val, y_pred)\n",
        "  cm = plot_confusion_matrix(confusion_mtx, classes = list(labels.items()), normalize=False)\n",
        "  "
      ],
      "metadata": {
        "id": "PcX873UDKw-2"
      },
      "execution_count": 69,
      "outputs": []
    },
    {
      "cell_type": "code",
      "source": [
        "validateOnValSet(modelVgg)"
      ],
      "metadata": {
        "colab": {
          "base_uri": "https://localhost:8080/",
          "height": 715
        },
        "id": "6JSn3OgkMosb",
        "outputId": "80297e55-22fb-4e00-bf41-4c5e90746f6c"
      },
      "execution_count": 70,
      "outputs": [
        {
          "output_type": "stream",
          "name": "stdout",
          "text": [
            "\n",
            "              precision    recall  f1-score   support\n",
            "\n",
            "        rot0       1.00      0.81      0.90        16\n",
            "       rot90       0.76      0.85      0.80        48\n",
            "      rot180       0.33      0.20      0.25         5\n",
            "      rot-90       0.92      0.91      0.92        66\n",
            "\n",
            "    accuracy                           0.85       135\n",
            "   macro avg       0.75      0.69      0.72       135\n",
            "weighted avg       0.85      0.85      0.85       135\n",
            "\n",
            "[[13  3  0  0]\n",
            " [ 0 41  2  5]\n",
            " [ 0  4  1  0]\n",
            " [ 0  6  0 60]]\n"
          ]
        },
        {
          "output_type": "display_data",
          "data": {
            "text/plain": [
              "<Figure size 432x432 with 2 Axes>"
            ],
            "image/png": "[encoded data removed]"
          },
          "metadata": {
            "needs_background": "light"
          }
        }
      ]
    }
  ]
}